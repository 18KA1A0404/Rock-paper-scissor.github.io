#write a code to Create a Rock-Paper-Scissors game by using python

import random

#print instructions 
print("Lets play Rock Paper Scissors!")

#specify the three options
options = ["r", "p", "s"]

#computer selection
computer_choice = random.choice(options)

#user selection
user_choice = input("Make your Choice: (r)ock, (p)aper, (s)cissors? ")

#run conditions
if user_choice == computer_choice:
  print("It's a tie!")

elif user_choice == "r" and computer_choice == "s":
  print("You win!", "Rock beats scissors")

elif user_choice == "r" and computer_choice == "p":
  print("You lose!", "Paper beats rock")

elif user_choice == "p" and computer_choice == "r":
  print("You win!", "Paper beats rock")

elif user_choice == "p" and computer_choice == "s":
  print("You lose!", "Scissors beats paper")

elif user_choice == "s" and computer_choice == "p":
  print("You win!", "Scissors beats paper")

elif user_choice == "s" and computer_choice == "r":
  print("You lose!", "Rock beats scissors")

else:
  print("That's not a valid play. Check your spelling!")